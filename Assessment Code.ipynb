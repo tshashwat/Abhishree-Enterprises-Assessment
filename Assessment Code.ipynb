{
 "cells": [
  {
   "cell_type": "code",
   "execution_count": 1,
   "id": "5d080e94",
   "metadata": {},
   "outputs": [],
   "source": [
    "#import all required libraries\n",
    "\n",
    "from bs4 import BeautifulSoup\n",
    "import requests\n",
    "import re\n",
    "import pandas as pd\n",
    "import numpy as np\n",
    "\n",
    "website='https://www.theverge.com/'\n",
    "response = requests.get(website)\n",
    "\n",
    "soup = BeautifulSoup(response.content, 'html.parser')\n",
    "df=pd.read_csv(\"ddmmyyy_verge.csv\")"
   ]
  },
  {
   "cell_type": "code",
   "execution_count": 2,
   "id": "c21fef6d",
   "metadata": {},
   "outputs": [],
   "source": [
    "# get all links of articles\n",
    "\n",
    "toplink = soup.find_all('a',{'class' : 'group-hover:shadow-highlight-blurple'})\n",
    "links = soup.find_all('a', {'class': 'group-hover:shadow-underline-franklin'})\n",
    "all_links=[]\n",
    "\n",
    "for i in toplink:\n",
    "    all_links.append('https://www.theverge.com'+i['href'])\n",
    "for link in links:\n",
    "    (all_links.append('https://www.theverge.com'+link['href']))"
   ]
  },
  {
   "cell_type": "code",
   "execution_count": 3,
   "id": "22bea68b",
   "metadata": {},
   "outputs": [],
   "source": [
    "# get all headline of the article\n",
    "\n",
    "topheadline = soup.find_all('a',{'class' : 'group-hover:shadow-highlight-blurple'})\n",
    "headline = soup.find_all('a', {'class': 'group-hover:shadow-underline-franklin'})\n",
    "headlines=[]\n",
    "\n",
    "for i in topheadline:\n",
    "    headlines.append(i.text)\n",
    "for line in headline:\n",
    "    (headlines.append(line.text))"
   ]
  },
  {
   "cell_type": "code",
   "execution_count": 4,
   "id": "f0cc0052",
   "metadata": {},
   "outputs": [
    {
     "data": {
      "text/plain": [
       "[0,\n",
       " 0,\n",
       " 'Apr 8, 2023, 1:00 PM UTC',\n",
       " 'Apr 8, 2023, 12:30 PM UTC',\n",
       " 'Apr 8, 2023, 4:00 PM UTC',\n",
       " 'Apr 7, 2023, 8:35 PM UTC']"
      ]
     },
     "execution_count": 4,
     "metadata": {},
     "output_type": "execute_result"
    }
   ],
   "source": [
    "# to get all dates of every article\n",
    "\n",
    "new_dates=[]\n",
    "dates=[]\n",
    "for i in all_links:\n",
    "    response = requests.get(i)\n",
    "    soup = BeautifulSoup(response.content, 'html.parser')\n",
    "    date = soup.find('time',{'class' : 'duet--article--timestamp font-polysans text-12'})\n",
    "    try:\n",
    "        new_dates.append(date.text)\n",
    "    except:\n",
    "        dates.append(0)\n",
    "        pass\n",
    "\n",
    "for x in new_dates:\n",
    "    try:\n",
    "        if x.strip():\n",
    "            dates.append(x.strip())\n",
    "    except:\n",
    "        pass\n",
    "try:\n",
    "    dates.remove(\"Updated\")\n",
    "except:\n",
    "    pass"
   ]
  },
  {
   "cell_type": "code",
   "execution_count": 5,
   "id": "811fdd7d",
   "metadata": {},
   "outputs": [],
   "source": [
    "#to get authors of all articles\n",
    "\n",
    "authors=[]\n",
    "website='https://www.theverge.com/'\n",
    "response = requests.get(website)\n",
    "soup = BeautifulSoup(response.content, 'html.parser')\n",
    "author = soup.find_all('a', {'class': 'text-gray-31 hover:shadow-underline-inherit dark:text-franklin mr-8'})\n",
    "\n",
    "try:\n",
    "    for name in author:\n",
    "        (authors.append(name.text))\n",
    "except:\n",
    "    authors.append(\"\")\n"
   ]
  },
  {
   "cell_type": "code",
   "execution_count": 6,
   "id": "804fe5d1",
   "metadata": {},
   "outputs": [],
   "source": [
    "#to create a unique id\n",
    "\n",
    "ids=[]\n",
    "for i in headlines:\n",
    "    ids.append(i[:3]+str(len(i)))\n"
   ]
  },
  {
   "cell_type": "code",
   "execution_count": 7,
   "id": "5007c156",
   "metadata": {},
   "outputs": [],
   "source": [
    "# create a dataframe with all the extracted data\n",
    "\n",
    "df1=pd.DataFrame({'id':ids,'url':all_links,'headline':headlines,'author':authors,'date':dates})"
   ]
  },
  {
   "cell_type": "code",
   "execution_count": 8,
   "id": "54ada8e5",
   "metadata": {
    "scrolled": true
   },
   "outputs": [],
   "source": [
    "# Convert the string to datetime format\n",
    "\n",
    "df1['date'] = pd.to_datetime(df1['date'])\n",
    "\n",
    "# Extract only the date part\n",
    "df1['date'] = df1['date'].dt.strftime('%Y/%m/%d')\n",
    "\n"
   ]
  },
  {
   "cell_type": "code",
   "execution_count": 9,
   "id": "3f9c41a7",
   "metadata": {
    "scrolled": true
   },
   "outputs": [],
   "source": [
    "# craete a final dataset by removing duplicate rows and joining csv dataframe \n",
    "\n",
    "result=pd.concat([df,df1],axis=0)\n",
    "result.dropna(how='all', axis=1, inplace=True)\n",
    "result.drop(columns='id',inplace=True)\n",
    "df=result\n",
    "df.drop_duplicates(inplace=True)\n"
   ]
  },
  {
   "cell_type": "code",
   "execution_count": 10,
   "id": "f967192a",
   "metadata": {},
   "outputs": [],
   "source": [
    "# set index column as id\n",
    "\n",
    "df.index = range(0, len(df))\n",
    "df.index.name = 'id'\n"
   ]
  },
  {
   "cell_type": "code",
   "execution_count": 11,
   "id": "47e8f3a0",
   "metadata": {},
   "outputs": [],
   "source": [
    "#append data from dataframe into csv\n",
    "\n",
    "df.to_csv('ddmmyyy_verge.csv', mode='w', header=True,index=True,index_label='id')"
   ]
  },
  {
   "cell_type": "code",
   "execution_count": 12,
   "id": "80e409bb",
   "metadata": {},
   "outputs": [],
   "source": [
    "#creating a sqlite database\n",
    "\n",
    "import sqlite3\n",
    "import csv\n",
    "\n",
    "# Create a connection object\n",
    "conn = sqlite3.connect('assessment.db')\n",
    "\n",
    "# Create a cursor object\n",
    "c = conn.cursor()\n",
    "\n",
    "#create table if not there\n",
    "try:\n",
    "    c.execute('CREATE TABLE ddmmyyy_verge(id INT(6) PRIMARY KEY,url VARCHAR(255),headline VARCHAR(255),author VARCHAR(255),date VARCHAR(255))')\n",
    "except:\n",
    "    pass\n",
    "\n",
    "#append table with data from dataframe\n",
    "try:\n",
    "    df.to_sql('ddmmyyy_verge', conn, if_exists='append', index=True)\n",
    "except:\n",
    "    pass\n",
    "# Commit the changes\n",
    "conn.commit()\n",
    "                                                                                                                           \n",
    "# Close the connection\n",
    "conn.close()"
   ]
  },
  {
   "cell_type": "code",
   "execution_count": null,
   "id": "05c868f6",
   "metadata": {},
   "outputs": [],
   "source": []
  }
 ],
 "metadata": {
  "kernelspec": {
   "display_name": "Python 3 (ipykernel)",
   "language": "python",
   "name": "python3"
  },
  "language_info": {
   "codemirror_mode": {
    "name": "ipython",
    "version": 3
   },
   "file_extension": ".py",
   "mimetype": "text/x-python",
   "name": "python",
   "nbconvert_exporter": "python",
   "pygments_lexer": "ipython3",
   "version": "3.9.12"
  }
 },
 "nbformat": 4,
 "nbformat_minor": 5
}
